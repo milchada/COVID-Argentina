{
 "cells": [
  {
   "cell_type": "code",
   "execution_count": 1,
   "metadata": {},
   "outputs": [],
   "source": [
    "import boto3\n",
    "import yaml\n",
    "\n",
    "with open(\"../../.aws_config.yml\") as handle:\n",
    "    config = yaml.load(Loader=yaml.SafeLoader, stream=handle)\n",
    "\n",
    "AWS_SERVER_PUBLIC_KEY = config['public_key']\n",
    "AWS_SERVER_SECRET_KEY = config['secret_key']\n",
    "\n",
    "s3 = boto3.resource(\n",
    "    's3',\n",
    "    aws_access_key_id=AWS_SERVER_PUBLIC_KEY,\n",
    "    aws_secret_access_key=AWS_SERVER_SECRET_KEY,\n",
    ")\n",
    "client = boto3.client(\n",
    "    's3',\n",
    "    aws_access_key_id=AWS_SERVER_PUBLIC_KEY,\n",
    "    aws_secret_access_key=AWS_SERVER_SECRET_KEY\n",
    ")\n",
    "\n",
    "bucketName = 'revealdata-argentina'"
   ]
  },
  {
   "cell_type": "code",
   "execution_count": 2,
   "metadata": {},
   "outputs": [],
   "source": [
    "bucket = s3.Bucket(bucketName)\n",
    "\n",
    "objs = bucket.objects.all()\n",
    "\n",
    "files = []\n",
    "for obj in objs:\n",
    "    if ('metadata' not in obj.key) and ('data-subset' in obj.key):\n",
    "        files.append(obj.key)"
   ]
  },
  {
   "cell_type": "code",
   "execution_count": 3,
   "metadata": {},
   "outputs": [],
   "source": [
    "metadata = []\n",
    "for obj in objs:\n",
    "    if ('metadata' in obj.key) and ('data-subset' in obj.key):\n",
    "        metadata.append(obj.key)"
   ]
  },
  {
   "cell_type": "code",
   "execution_count": 5,
   "metadata": {},
   "outputs": [],
   "source": [
    "import pandas as pd\n",
    "import io\n",
    "\n",
    "df = pd.read_csv(\n",
    "    io.BytesIO(client.get_object(\n",
    "        Bucket=bucketName, \n",
    "        Key=files[10])['Body'].read()), encoding='utf8')"
   ]
  },
  {
   "cell_type": "code",
   "execution_count": 17,
   "metadata": {},
   "outputs": [],
   "source": [
    "df = df.loc[(df['accuracy'] < 25) & (df['accuracy'] > 1)]"
   ]
  },
  {
   "cell_type": "code",
   "execution_count": 8,
   "metadata": {},
   "outputs": [],
   "source": [
    "import scprep"
   ]
  },
  {
   "cell_type": "code",
   "execution_count": 20,
   "metadata": {},
   "outputs": [
    {
     "data": {
      "text/plain": [
       "<matplotlib.axes._subplots.AxesSubplot at 0x7fa19e1be550>"
      ]
     },
     "execution_count": 20,
     "metadata": {},
     "output_type": "execute_result"
    },
    {
     "data": {
      "image/png": "[encoded data removed]",
      "text/plain": [
       "<Figure size 432x288 with 1 Axes>"
      ]
     },
     "metadata": {
      "needs_background": "light"
     },
     "output_type": "display_data"
    }
   ],
   "source": [
    "scprep.plot.histogram(df['accuracy'], xlabel='Accuracy (m)', ylabel='Number of records', bins=20)"
   ]
  },
  {
   "cell_type": "code",
   "execution_count": 52,
   "metadata": {},
   "outputs": [],
   "source": [
    "df['utc_timestamp'] = df['utc_timestamp'].astype(pd.DatetimeTZDtype(tz='utc'))"
   ]
  },
  {
   "cell_type": "code",
   "execution_count": 59,
   "metadata": {},
   "outputs": [],
   "source": [
    "df = df.sort_values('utc_timestamp')"
   ]
  },
  {
   "cell_type": "code",
   "execution_count": 60,
   "metadata": {},
   "outputs": [
    {
     "data": {
      "text/html": [
       "<div>\n",
       "<style scoped>\n",
       "    .dataframe tbody tr th:only-of-type {\n",
       "        vertical-align: middle;\n",
       "    }\n",
       "\n",
       "    .dataframe tbody tr th {\n",
       "        vertical-align: top;\n",
       "    }\n",
       "\n",
       "    .dataframe thead th {\n",
       "        text-align: right;\n",
       "    }\n",
       "</style>\n",
       "<table border=\"1\" class=\"dataframe\">\n",
       "  <thead>\n",
       "    <tr style=\"text-align: right;\">\n",
       "      <th></th>\n",
       "      <th>utc_timestamp</th>\n",
       "      <th>advertiser_id</th>\n",
       "      <th>lat</th>\n",
       "      <th>lon</th>\n",
       "      <th>accuracy</th>\n",
       "      <th>country_iso3</th>\n",
       "    </tr>\n",
       "  </thead>\n",
       "  <tbody>\n",
       "    <tr>\n",
       "      <th>6583198</th>\n",
       "      <td>2020-05-07 00:00:00+00:00</td>\n",
       "      <td>c51ed8e2-1112-4e66-857c-90c5fceffa19</td>\n",
       "      <td>-34.494275</td>\n",
       "      <td>-58.503591</td>\n",
       "      <td>13.0</td>\n",
       "      <td>ARG</td>\n",
       "    </tr>\n",
       "    <tr>\n",
       "      <th>1528242</th>\n",
       "      <td>2020-05-07 00:00:00+00:00</td>\n",
       "      <td>32717981-3ab4-4719-807f-ad810bcb2cb6</td>\n",
       "      <td>-25.289474</td>\n",
       "      <td>-57.745567</td>\n",
       "      <td>14.0</td>\n",
       "      <td>ARG</td>\n",
       "    </tr>\n",
       "    <tr>\n",
       "      <th>6701409</th>\n",
       "      <td>2020-05-07 00:00:00+00:00</td>\n",
       "      <td>d773bd59-4b97-4eb1-8f46-9629424b6303</td>\n",
       "      <td>-23.948353</td>\n",
       "      <td>-64.803524</td>\n",
       "      <td>22.0</td>\n",
       "      <td>ARG</td>\n",
       "    </tr>\n",
       "    <tr>\n",
       "      <th>5576490</th>\n",
       "      <td>2020-05-07 00:00:00+00:00</td>\n",
       "      <td>a9d0164f-bc39-4df6-a28d-8333c897f2fe</td>\n",
       "      <td>-34.558360</td>\n",
       "      <td>-58.444686</td>\n",
       "      <td>9.0</td>\n",
       "      <td>ARG</td>\n",
       "    </tr>\n",
       "    <tr>\n",
       "      <th>1694509</th>\n",
       "      <td>2020-05-07 00:00:00+00:00</td>\n",
       "      <td>3489b545-3fc8-4401-9e9a-ca89fa176578</td>\n",
       "      <td>-38.704811</td>\n",
       "      <td>-62.278642</td>\n",
       "      <td>14.0</td>\n",
       "      <td>ARG</td>\n",
       "    </tr>\n",
       "    <tr>\n",
       "      <th>...</th>\n",
       "      <td>...</td>\n",
       "      <td>...</td>\n",
       "      <td>...</td>\n",
       "      <td>...</td>\n",
       "      <td>...</td>\n",
       "      <td>...</td>\n",
       "    </tr>\n",
       "    <tr>\n",
       "      <th>3532059</th>\n",
       "      <td>2020-05-07 23:59:59+00:00</td>\n",
       "      <td>6e7a8910-d094-4b85-ae24-3ffb3f76fcb9</td>\n",
       "      <td>-34.580151</td>\n",
       "      <td>-58.435401</td>\n",
       "      <td>11.0</td>\n",
       "      <td>ARG</td>\n",
       "    </tr>\n",
       "    <tr>\n",
       "      <th>4748600</th>\n",
       "      <td>2020-05-07 23:59:59+00:00</td>\n",
       "      <td>966842e1-923b-4e63-9b86-b10b76c77114</td>\n",
       "      <td>-32.945124</td>\n",
       "      <td>-60.655793</td>\n",
       "      <td>18.0</td>\n",
       "      <td>ARG</td>\n",
       "    </tr>\n",
       "    <tr>\n",
       "      <th>2673864</th>\n",
       "      <td>2020-05-07 23:59:59+00:00</td>\n",
       "      <td>5567bb2d-9d24-4d0c-b70d-93208a2d4f99</td>\n",
       "      <td>-34.597035</td>\n",
       "      <td>-58.422079</td>\n",
       "      <td>14.0</td>\n",
       "      <td>ARG</td>\n",
       "    </tr>\n",
       "    <tr>\n",
       "      <th>6945145</th>\n",
       "      <td>2020-05-07 23:59:59+00:00</td>\n",
       "      <td>d98800db-fcad-4012-9390-c849ac575c43</td>\n",
       "      <td>-31.549687</td>\n",
       "      <td>-68.553947</td>\n",
       "      <td>20.0</td>\n",
       "      <td>ARG</td>\n",
       "    </tr>\n",
       "    <tr>\n",
       "      <th>6654308</th>\n",
       "      <td>2020-05-07 23:59:59+00:00</td>\n",
       "      <td>d45fb670-c984-43f1-b951-d8edc30a147b</td>\n",
       "      <td>-32.959221</td>\n",
       "      <td>-60.646566</td>\n",
       "      <td>14.0</td>\n",
       "      <td>ARG</td>\n",
       "    </tr>\n",
       "  </tbody>\n",
       "</table>\n",
       "<p>4993113 rows × 6 columns</p>\n",
       "</div>"
      ],
      "text/plain": [
       "                    utc_timestamp                         advertiser_id  \\\n",
       "6583198 2020-05-07 00:00:00+00:00  c51ed8e2-1112-4e66-857c-90c5fceffa19   \n",
       "1528242 2020-05-07 00:00:00+00:00  32717981-3ab4-4719-807f-ad810bcb2cb6   \n",
       "6701409 2020-05-07 00:00:00+00:00  d773bd59-4b97-4eb1-8f46-9629424b6303   \n",
       "5576490 2020-05-07 00:00:00+00:00  a9d0164f-bc39-4df6-a28d-8333c897f2fe   \n",
       "1694509 2020-05-07 00:00:00+00:00  3489b545-3fc8-4401-9e9a-ca89fa176578   \n",
       "...                           ...                                   ...   \n",
       "3532059 2020-05-07 23:59:59+00:00  6e7a8910-d094-4b85-ae24-3ffb3f76fcb9   \n",
       "4748600 2020-05-07 23:59:59+00:00  966842e1-923b-4e63-9b86-b10b76c77114   \n",
       "2673864 2020-05-07 23:59:59+00:00  5567bb2d-9d24-4d0c-b70d-93208a2d4f99   \n",
       "6945145 2020-05-07 23:59:59+00:00  d98800db-fcad-4012-9390-c849ac575c43   \n",
       "6654308 2020-05-07 23:59:59+00:00  d45fb670-c984-43f1-b951-d8edc30a147b   \n",
       "\n",
       "               lat        lon  accuracy country_iso3  \n",
       "6583198 -34.494275 -58.503591      13.0          ARG  \n",
       "1528242 -25.289474 -57.745567      14.0          ARG  \n",
       "6701409 -23.948353 -64.803524      22.0          ARG  \n",
       "5576490 -34.558360 -58.444686       9.0          ARG  \n",
       "1694509 -38.704811 -62.278642      14.0          ARG  \n",
       "...            ...        ...       ...          ...  \n",
       "3532059 -34.580151 -58.435401      11.0          ARG  \n",
       "4748600 -32.945124 -60.655793      18.0          ARG  \n",
       "2673864 -34.597035 -58.422079      14.0          ARG  \n",
       "6945145 -31.549687 -68.553947      20.0          ARG  \n",
       "6654308 -32.959221 -60.646566      14.0          ARG  \n",
       "\n",
       "[4993113 rows x 6 columns]"
      ]
     },
     "execution_count": 60,
     "metadata": {},
     "output_type": "execute_result"
    }
   ],
   "source": [
    "df"
   ]
  },
  {
   "cell_type": "code",
   "execution_count": 61,
   "metadata": {},
   "outputs": [],
   "source": [
    "import geopy.distance\n",
    "\n",
    "def geo_dist(x, y):\n",
    "    return geopy.distance.distance(x[['lat', 'lon']], y[['lat', 'lon']]).m - x['accuracy'] - y['accuracy']\n",
    "\n",
    "def date_dist(x, y):\n",
    "    return (x['utc_timestamp'] - y['utc_timestamp']).seconds"
   ]
  },
  {
   "cell_type": "code",
   "execution_count": 29,
   "metadata": {},
   "outputs": [],
   "source": [
    "import sklearn.neighbors"
   ]
  },
  {
   "cell_type": "code",
   "execution_count": 83,
   "metadata": {},
   "outputs": [],
   "source": [
    "df['timestamp'] = (df['utc_timestamp'].astype(int) / 1e9).astype(int)"
   ]
  },
  {
   "cell_type": "code",
   "execution_count": 85,
   "metadata": {},
   "outputs": [],
   "source": [
    "knn_op = sklearn.neighbors.NearestNeighbors(radius=15*60).fit(df['timestamp'].to_numpy()[:,None])"
   ]
  },
  {
   "cell_type": "code",
   "execution_count": null,
   "metadata": {},
   "outputs": [],
   "source": [
    "distances, indices = knn_op.radius_neighbors()"
   ]
  },
  {
   "cell_type": "code",
   "execution_count": 78,
   "metadata": {},
   "outputs": [
    {
     "data": {
      "text/plain": [
       "1588809600.0"
      ]
     },
     "execution_count": 78,
     "metadata": {},
     "output_type": "execute_result"
    }
   ],
   "source": [
    "dt.timestamp()"
   ]
  },
  {
   "cell_type": "code",
   "execution_count": null,
   "metadata": {},
   "outputs": [],
   "source": []
  }
 ],
 "metadata": {
  "kernelspec": {
   "display_name": "Python 3",
   "language": "python",
   "name": "python3"
  },
  "language_info": {
   "codemirror_mode": {
    "name": "ipython",
    "version": 3
   },
   "file_extension": ".py",
   "mimetype": "text/x-python",
   "name": "python",
   "nbconvert_exporter": "python",
   "pygments_lexer": "ipython3",
   "version": "3.6.10"
  }
 },
 "nbformat": 4,
 "nbformat_minor": 2
}
